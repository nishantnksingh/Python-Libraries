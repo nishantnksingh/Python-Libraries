{
 "cells": [
  {
   "cell_type": "markdown",
   "metadata": {},
   "source": [
    "# Numpy : uFunc : Math : Linear Algebra"
   ]
  },
  {
   "cell_type": "markdown",
   "metadata": {},
   "source": [
    "## A. Matrix and Vector Products"
   ]
  },
  {
   "cell_type": "markdown",
   "metadata": {},
   "source": [
    "### 1. Dot Product\n",
    "\n",
    "1. If both a and b are 1-D arrays, it is inner product of vectors (without complex conjugation).\n",
    "2. If both a and b are 2-D arrays, it is matrix multiplication, but using matmul or a @ b is preferred.\n",
    "3. If either a or b is 0-D (scalar), it is equivalent to multiply and using numpy.multiply(a, b) or a * b is preferred.\n",
    "4. If a is an N-D array and b is a 1-D array, it is a sum product over the last axis of a and b.\n",
    "5. If a is an N-D array and b is an M-D array (where M>=2), it is a sum product over the last axis of a and the second-to-last    axis of b."
   ]
  },
  {
   "cell_type": "code",
   "execution_count": 4,
   "metadata": {
    "scrolled": false
   },
   "outputs": [
    {
     "name": "stdout",
     "output_type": "stream",
     "text": [
      "[[ 8 10]\n",
      " [20 25]\n",
      " [32 40]]\n"
     ]
    }
   ],
   "source": [
    "import numpy as np\n",
    "from numpy import linalg as LA\n",
    "from numpy import linalg as LAb\n",
    "\n",
    "X = np.array([[1, 2, 3],\n",
    "              [4, 5, 6],\n",
    "              [7, 8, 9]])\n",
    "\n",
    "Y = np.array([[1, 2],\n",
    "              [2, 1],\n",
    "              [1, 2]])\n",
    "\n",
    "# Dot Produt of two Arrays\n",
    "\n",
    "Dprod = np.dot(X, Y)\n",
    "print(Dprod)"
   ]
  },
  {
   "cell_type": "code",
   "execution_count": 10,
   "metadata": {
    "scrolled": true
   },
   "outputs": [
    {
     "name": "stdout",
     "output_type": "stream",
     "text": [
      "[[0 1 0 0 3 4 1 4 2 0]]\n",
      "[[0 2 0 0 6 8 2 8 4 0]]\n"
     ]
    }
   ],
   "source": [
    "# Scalar Dot product\n",
    "R = np.random.randint(5, size =(1, 10))\n",
    "print(R)\n",
    "\n",
    "R_dot = np.dot(R, 2)\n",
    "print(R_dot)"
   ]
  },
  {
   "cell_type": "markdown",
   "metadata": {},
   "source": [
    "### 2. Inner Product"
   ]
  },
  {
   "cell_type": "code",
   "execution_count": 46,
   "metadata": {
    "scrolled": true
   },
   "outputs": [
    {
     "name": "stdout",
     "output_type": "stream",
     "text": [
      "8\n"
     ]
    }
   ],
   "source": [
    "a1 = np.array([1, 2, 3])\n",
    "\n",
    "b1 = np.array([1, 2, 1])\n",
    "\n",
    "# Inner product of two 1-D array \n",
    "print(np.inner(a1, b1))"
   ]
  },
  {
   "cell_type": "code",
   "execution_count": 16,
   "metadata": {},
   "outputs": [
    {
     "name": "stdout",
     "output_type": "stream",
     "text": [
      "[ 6 11]\n"
     ]
    }
   ],
   "source": [
    "a2 = np.array([1, 2, 3])\n",
    "\n",
    "b2 = np.array([[1, 1, 1],\n",
    "               [1, 2, 2]])\n",
    "\n",
    "# Inner product of two 1-D array and 2-D array \n",
    "print(np.inner(a2, b2))"
   ]
  },
  {
   "cell_type": "code",
   "execution_count": 20,
   "metadata": {},
   "outputs": [
    {
     "name": "stdout",
     "output_type": "stream",
     "text": [
      "[[ 6 11]\n",
      " [ 5  9]]\n"
     ]
    }
   ],
   "source": [
    "a3 = np.array([[1, 2, 3],\n",
    "               [1, 2, 2]])\n",
    "\n",
    "b3 = np.array([[1, 1, 1],\n",
    "               [1, 2, 2]])\n",
    "\n",
    "# Inner product of two 2-D array and 2-D array \n",
    "print(np.inner(a3, b3))"
   ]
  },
  {
   "cell_type": "code",
   "execution_count": 27,
   "metadata": {
    "scrolled": true
   },
   "outputs": [
    {
     "name": "stdout",
     "output_type": "stream",
     "text": [
      "[[ 9 18 27]\n",
      " [ 6 12 24]\n",
      " [ 3  9 15]]\n"
     ]
    }
   ],
   "source": [
    "a4 = np.array([[3, 6, 9],\n",
    "               [2, 4, 8],\n",
    "               [1, 3, 5]])\n",
    "\n",
    "# Inner product of Array and scalar \n",
    "print(np.inner(a4, 3))"
   ]
  },
  {
   "cell_type": "markdown",
   "metadata": {},
   "source": [
    "### 3. Outer Product"
   ]
  },
  {
   "cell_type": "code",
   "execution_count": 28,
   "metadata": {},
   "outputs": [
    {
     "name": "stdout",
     "output_type": "stream",
     "text": [
      "[[1 1 1]\n",
      " [2 2 2]\n",
      " [3 3 3]]\n"
     ]
    }
   ],
   "source": [
    "a1 = np.array([1, 2, 3])\n",
    "\n",
    "b1 = np.array([1, 1, 1])\n",
    "\n",
    "# Outer product of two 1-D array \n",
    "print(np.outer(a1, b1))"
   ]
  },
  {
   "cell_type": "code",
   "execution_count": 29,
   "metadata": {},
   "outputs": [
    {
     "name": "stdout",
     "output_type": "stream",
     "text": [
      "[[1 1 1 1 2 2]\n",
      " [2 2 2 2 4 4]\n",
      " [3 3 3 3 6 6]]\n"
     ]
    }
   ],
   "source": [
    "a2 = np.array([1, 2, 3])\n",
    "\n",
    "b2 = np.array([[1, 1, 1],\n",
    "               [1, 2, 2]])\n",
    "\n",
    "# Outer product of two 1-D array and 2-D array \n",
    "print(np.outer(a2, b2))"
   ]
  },
  {
   "cell_type": "code",
   "execution_count": 31,
   "metadata": {
    "scrolled": false
   },
   "outputs": [
    {
     "name": "stdout",
     "output_type": "stream",
     "text": [
      "[[1 1 1 1 2 2]\n",
      " [2 2 2 2 4 4]\n",
      " [3 3 3 3 6 6]\n",
      " [1 1 1 1 2 2]\n",
      " [2 2 2 2 4 4]\n",
      " [2 2 2 2 4 4]]\n"
     ]
    }
   ],
   "source": [
    "a3 = np.array([[1, 2, 3],\n",
    "               [1, 2, 2]])\n",
    "\n",
    "b3 = np.array([[1, 1, 1],\n",
    "               [1, 2, 2]])\n",
    "\n",
    "# Inner product of two 2-D array and 2-D array \n",
    "print(np.outer(a3, b3))"
   ]
  },
  {
   "cell_type": "code",
   "execution_count": 34,
   "metadata": {},
   "outputs": [
    {
     "name": "stdout",
     "output_type": "stream",
     "text": [
      "[[ 9 18 27  6 12 24  3  9 15]]\n",
      "[[ 9]\n",
      " [18]\n",
      " [27]\n",
      " [ 6]\n",
      " [12]\n",
      " [24]\n",
      " [ 3]\n",
      " [ 9]\n",
      " [15]]\n"
     ]
    }
   ],
   "source": [
    "a4 = np.array([[3, 6, 9],\n",
    "               [2, 4, 8],\n",
    "               [1, 3, 5]])\n",
    "\n",
    "# Inner product of Array and scalar \n",
    "print(np.outer(3, a4))\n",
    "print(np.outer(a4, 3))"
   ]
  },
  {
   "cell_type": "markdown",
   "metadata": {},
   "source": [
    "### 3. Vector Dot Product"
   ]
  },
  {
   "cell_type": "code",
   "execution_count": 42,
   "metadata": {
    "scrolled": true
   },
   "outputs": [
    {
     "name": "stdout",
     "output_type": "stream",
     "text": [
      "17\n"
     ]
    }
   ],
   "source": [
    "v1 = np.array([1, 2, 3])               \n",
    "w1 = np.array([2, 3, 3])               \n",
    "              \n",
    "\n",
    "# Vector dot product 1-D Arrays\n",
    "print(np.vdot(v1, w1))"
   ]
  },
  {
   "cell_type": "code",
   "execution_count": 45,
   "metadata": {},
   "outputs": [
    {
     "name": "stdout",
     "output_type": "stream",
     "text": [
      "12\n"
     ]
    }
   ],
   "source": [
    "v2 = np.array([[1, 2],\n",
    "               [2, 2]])               \n",
    "w2 = np.array([[2, 3],\n",
    "               [1, 1]]) \n",
    "\n",
    "# Vector product 2-D Arrays \n",
    "print(np.vdot(v2, w2))"
   ]
  },
  {
   "cell_type": "markdown",
   "metadata": {},
   "source": [
    "### 4. Matrix Multiplication"
   ]
  },
  {
   "cell_type": "code",
   "execution_count": 58,
   "metadata": {},
   "outputs": [
    {
     "name": "stdout",
     "output_type": "stream",
     "text": [
      "[[ 8 10]\n",
      " [20 25]\n",
      " [32 40]]\n"
     ]
    }
   ],
   "source": [
    "X = np.array([[1, 2, 3],\n",
    "              [4, 5, 6],\n",
    "              [7, 8, 9]])\n",
    "\n",
    "Y = np.array([[1, 2],\n",
    "              [2, 1],\n",
    "              [1, 2]])\n",
    "\n",
    "# Matrix Multiplication of 2D Arrays\n",
    "\n",
    "print(np.matmul(X, Y))"
   ]
  },
  {
   "cell_type": "markdown",
   "metadata": {},
   "source": [
    "## B. Matrix Eigen values and vectors"
   ]
  },
  {
   "cell_type": "code",
   "execution_count": 71,
   "metadata": {},
   "outputs": [
    {
     "name": "stdout",
     "output_type": "stream",
     "text": [
      "[[1 0 0]\n",
      " [0 2 0]\n",
      " [0 0 3]]\n",
      "Eigen Values:  [1. 2. 3.]\n",
      "Eigen Vector:\n",
      "  [[1. 0. 0.]\n",
      " [0. 1. 0.]\n",
      " [0. 0. 1.]]\n",
      "Eigen Values:  [1. 2. 3.]\n"
     ]
    }
   ],
   "source": [
    "mat = np.diag([1, 2, 3])\n",
    "print(mat)\n",
    "\n",
    "e, f = LA.eig(mat)\n",
    "\n",
    "print(\"Eigen Values: \", e)                      # Eigen Values\n",
    "\n",
    "print(\"Eigen Vector:\\n \", f)                    # Eigen Vectors\n",
    "\n",
    "print(\"Eigen Values: \", LA.eigvals(mat))        # Eigen value"
   ]
  },
  {
   "cell_type": "markdown",
   "metadata": {},
   "source": [
    "## C. Solving Matrices"
   ]
  },
  {
   "cell_type": "markdown",
   "metadata": {},
   "source": [
    "### 1. Solve simple linear equation"
   ]
  },
  {
   "cell_type": "code",
   "execution_count": 22,
   "metadata": {
    "scrolled": true
   },
   "outputs": [
    {
     "name": "stdout",
     "output_type": "stream",
     "text": [
      "[2. 3.]\n",
      "True\n"
     ]
    }
   ],
   "source": [
    "# To solve the system of equations 3*x1 + x2 = 9 and x1 + 2*x2 =8\n",
    "\n",
    "matA = np.array([[3, 1],\n",
    "                [1, 2]])\n",
    "matB = np.array([9, 8])\n",
    "\n",
    "sol = np.linalg.solve(matA, matB)               # solve for x1 and x2\n",
    "print(sol)            \n",
    "\n",
    "print(np.allclose(np.dot(matA, sol), matB))     # Check solution is Correct"
   ]
  },
  {
   "cell_type": "markdown",
   "metadata": {},
   "source": [
    "### 2. Compute (Multiplicative) inverse of matrix"
   ]
  },
  {
   "cell_type": "code",
   "execution_count": 79,
   "metadata": {},
   "outputs": [
    {
     "name": "stdout",
     "output_type": "stream",
     "text": [
      "[[ 0.4 -0.2]\n",
      " [-0.2  0.6]]\n"
     ]
    }
   ],
   "source": [
    "print(np.linalg.inv(matA))                      # Inverse of the matrix"
   ]
  },
  {
   "cell_type": "code",
   "execution_count": 82,
   "metadata": {},
   "outputs": [
    {
     "name": "stdout",
     "output_type": "stream",
     "text": [
      "[[[-2.    1.  ]\n",
      "  [ 1.5  -0.5 ]]\n",
      "\n",
      " [[-1.25  0.75]\n",
      "  [ 0.75 -0.25]]]\n"
     ]
    }
   ],
   "source": [
    "#Inverse of several matrices at once\n",
    "\n",
    "grid = np.array([[[1, 2], [3, 4]], [[1, 3], [3, 5]]])\n",
    "\n",
    "print(np.linalg.inv(grid))"
   ]
  }
 ],
 "metadata": {
  "kernelspec": {
   "display_name": "Python 3",
   "language": "python",
   "name": "python3"
  },
  "language_info": {
   "codemirror_mode": {
    "name": "ipython",
    "version": 3
   },
   "file_extension": ".py",
   "mimetype": "text/x-python",
   "name": "python",
   "nbconvert_exporter": "python",
   "pygments_lexer": "ipython3",
   "version": "3.7.1"
  }
 },
 "nbformat": 4,
 "nbformat_minor": 2
}
