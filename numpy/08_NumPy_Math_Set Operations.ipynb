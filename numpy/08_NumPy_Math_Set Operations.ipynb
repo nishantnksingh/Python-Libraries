{
 "cells": [
  {
   "cell_type": "markdown",
   "metadata": {},
   "source": [
    "# Numpy_Math_Set Operations"
   ]
  },
  {
   "cell_type": "code",
   "execution_count": null,
   "metadata": {},
   "outputs": [],
   "source": []
  },
  {
   "cell_type": "markdown",
   "metadata": {},
   "source": [
    "## 1. Unique elements of the array"
   ]
  },
  {
   "cell_type": "code",
   "execution_count": 1,
   "metadata": {},
   "outputs": [
    {
     "name": "stdout",
     "output_type": "stream",
     "text": [
      "[1 2 3 5]\n"
     ]
    }
   ],
   "source": [
    "import numpy as np\n",
    "\n",
    "A = np.array([1, 1, 2, 3, 3, 5, 5, 5])\n",
    "\n",
    "print(np.unique(A))                        # Print unique elements of the 1D array "
   ]
  },
  {
   "cell_type": "code",
   "execution_count": 3,
   "metadata": {},
   "outputs": [
    {
     "name": "stdout",
     "output_type": "stream",
     "text": [
      "[1 2 3 4]\n"
     ]
    }
   ],
   "source": [
    "B = np.array([[1, 1, 1],                   \n",
    "              [2, 3, 4],\n",
    "              [2, 3, 3]])\n",
    "              \n",
    "print(np.unique(B))                        # Print unique elements of the 2D array"
   ]
  },
  {
   "cell_type": "code",
   "execution_count": 7,
   "metadata": {},
   "outputs": [
    {
     "name": "stdout",
     "output_type": "stream",
     "text": [
      "[[1 1 1]\n",
      " [2 4 6]]\n"
     ]
    }
   ],
   "source": [
    "C = np.array([[1, 1, 1],\n",
    "              [2, 4, 6],\n",
    "              [1, 1, 1]])\n",
    "              \n",
    "print(np.unique(C, axis = 0))                # Finding Unique Row i.e axis=0"
   ]
  },
  {
   "cell_type": "code",
   "execution_count": 6,
   "metadata": {},
   "outputs": [
    {
     "name": "stdout",
     "output_type": "stream",
     "text": [
      "[[1 1]\n",
      " [2 4]\n",
      " [1 1]]\n"
     ]
    }
   ],
   "source": [
    "D = np.array([[1, 1, 1],\n",
    "              [2, 4, 2],\n",
    "              [1, 1, 1]])\n",
    "\n",
    "print(np.unique(D, axis=1))                # Finding Unique Column i.e axis=1"
   ]
  },
  {
   "cell_type": "code",
   "execution_count": 11,
   "metadata": {
    "scrolled": true
   },
   "outputs": [
    {
     "name": "stdout",
     "output_type": "stream",
     "text": [
      "['e' 'r' 's' 't']\n",
      "[2 1 4 0]\n",
      "[2 1 4 0]\n"
     ]
    }
   ],
   "source": [
    "# Return the indices of the unique elements \n",
    "\n",
    "E = np.array(['t', 'r', 'e', 'e', 's'])\n",
    "\n",
    "u, indices = np.unique(E, return_index=True)\n",
    "\n",
    "print(u)\n",
    "print(indices)"
   ]
  },
  {
   "cell_type": "markdown",
   "metadata": {},
   "source": [
    "## 2. Set Boolean Operation"
   ]
  },
  {
   "cell_type": "markdown",
   "metadata": {},
   "source": [
    "### A. Test for presence of each element of 1-D array in a second array"
   ]
  },
  {
   "cell_type": "code",
   "execution_count": 14,
   "metadata": {},
   "outputs": [
    {
     "name": "stdout",
     "output_type": "stream",
     "text": [
      "[ True False False  True  True]\n",
      "[0 5 0]\n",
      "[False  True  True False False]\n",
      "[1 2]\n"
     ]
    }
   ],
   "source": [
    "set1 = np.array([0, 1, 2, 5, 0])\n",
    "set2 = np.array([0, 5])\n",
    "\n",
    "test1 = np.in1d(set1, set2)                 # Common elements\n",
    "\n",
    "print(test1)\n",
    "print(set1[test1])                          # Print common elements\n",
    "\n",
    "test2 = np.in1d(set1, set2, invert=True)    # Uncommon elements\n",
    "\n",
    "print(test2)\n",
    "print(set1[test2])                          # Print Uncommon elements\n"
   ]
  },
  {
   "cell_type": "markdown",
   "metadata": {},
   "source": [
    "### B. Intersection of two arrays 1-D"
   ]
  },
  {
   "cell_type": "code",
   "execution_count": 16,
   "metadata": {},
   "outputs": [
    {
     "name": "stdout",
     "output_type": "stream",
     "text": [
      "['a' 'h' 's']\n"
     ]
    }
   ],
   "source": [
    "X = np.intersect1d(['a', 'k', 'a', 's', 'h'], ['s', 'h', 'r', 'e', 'y', 'a'])\n",
    "\n",
    "print(X)"
   ]
  },
  {
   "cell_type": "markdown",
   "metadata": {},
   "source": [
    "### C. Union of two arrays 1-D"
   ]
  },
  {
   "cell_type": "code",
   "execution_count": 20,
   "metadata": {},
   "outputs": [
    {
     "name": "stdout",
     "output_type": "stream",
     "text": [
      "['a' 'e' 'h' 'k' 'r' 's' 'y']\n"
     ]
    }
   ],
   "source": [
    "Y = np.union1d(['a', 'k', 'a', 's', 'h'], ['s', 'h', 'r', 'e', 'y', 'a'])\n",
    "\n",
    "print(Y)"
   ]
  },
  {
   "cell_type": "markdown",
   "metadata": {},
   "source": [
    "### D. Set difference of two arrays 1-D"
   ]
  },
  {
   "cell_type": "code",
   "execution_count": 23,
   "metadata": {},
   "outputs": [
    {
     "name": "stdout",
     "output_type": "stream",
     "text": [
      "[2 4 6]\n"
     ]
    }
   ],
   "source": [
    "U1 = np.setdiff1d([1, 2, 3, 4, 5, 6, 7], [1, 3, 5, 7])\n",
    "print(U1)                                                 "
   ]
  },
  {
   "cell_type": "markdown",
   "metadata": {},
   "source": [
    "### E. Set exculsive or of two arrays 1-D"
   ]
  },
  {
   "cell_type": "code",
   "execution_count": 30,
   "metadata": {},
   "outputs": [
    {
     "name": "stdout",
     "output_type": "stream",
     "text": [
      "[2 6 7 8]\n"
     ]
    }
   ],
   "source": [
    "U2 = np.setxor1d([1, 3, 5, 3, 8, 1], [1, 2, 3, 5, 2, 6, 7])\n",
    "\n",
    "print(U2)                                                   # Sorted Unique values present in only one (not both) arrays"
   ]
  },
  {
   "cell_type": "markdown",
   "metadata": {},
   "source": [
    "### F. Calculate element in test_elements, broadcasting over element only"
   ]
  },
  {
   "cell_type": "code",
   "execution_count": 37,
   "metadata": {},
   "outputs": [
    {
     "name": "stdout",
     "output_type": "stream",
     "text": [
      "[[0 2]\n",
      " [4 6]]\n",
      "[[False  True]\n",
      " [ True False]]\n",
      "[2 4]\n"
     ]
    }
   ],
   "source": [
    "element = 2*np.arange(4).reshape((2,2))\n",
    "\n",
    "print(element)\n",
    "\n",
    "test_elements = [1, 2 , 4, 8]\n",
    "\n",
    "result = np.isin(element, test_elements)\n",
    "\n",
    "print(result)\n",
    "\n",
    "print(element[result])\n"
   ]
  }
 ],
 "metadata": {
  "kernelspec": {
   "display_name": "Python 3",
   "language": "python",
   "name": "python3"
  },
  "language_info": {
   "codemirror_mode": {
    "name": "ipython",
    "version": 3
   },
   "file_extension": ".py",
   "mimetype": "text/x-python",
   "name": "python",
   "nbconvert_exporter": "python",
   "pygments_lexer": "ipython3",
   "version": "3.7.1"
  }
 },
 "nbformat": 4,
 "nbformat_minor": 2
}
