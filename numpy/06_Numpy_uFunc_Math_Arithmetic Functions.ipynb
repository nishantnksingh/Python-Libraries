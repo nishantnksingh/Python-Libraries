{
 "cells": [
  {
   "cell_type": "markdown",
   "metadata": {},
   "source": [
    "# Numpy : uFunc : Math : Arithmetic and Logarithmic Functions"
   ]
  },
  {
   "cell_type": "markdown",
   "metadata": {},
   "source": [
    "## Arithmatic Operations"
   ]
  },
  {
   "cell_type": "code",
   "execution_count": 47,
   "metadata": {},
   "outputs": [
    {
     "name": "stdout",
     "output_type": "stream",
     "text": [
      "[[16 11 14]]\n",
      "[[4 8 4]]\n",
      "Addition of arrays :  [[20 19 18]]\n",
      "Subtraction of arrays :  [[12  3 10]]\n",
      "Multiplication of arrays : [[64 88 56]]\n",
      "Division of arrays : [[0.25       0.72727273 0.28571429]]\n",
      "Floor Division of arrays : [[0 0 0]]\n",
      "Remainder array of X and Y : [[0 3 2]]\n",
      "X Modulo Y : [[0 3 2]]\n"
     ]
    }
   ],
   "source": [
    "import numpy as np\n",
    "\n",
    "np.random.seed(0)\n",
    "X = np.random.randint(11, 20, (1,3)) \n",
    "Y = np.random.randint(1, 10, (1,3))\n",
    "\n",
    "print(X)\n",
    "print(Y)\n",
    "\n",
    "\n",
    "# Basic Arithmatic operations\n",
    "\n",
    "print(\"Addition of arrays : \", np.add(X,Y))                # X + Y\n",
    "print(\"Subtraction of arrays : \", np.subtract(X,Y))        # X - Y \n",
    "print(\"Multiplication of arrays :\", np.multiply(X,Y))      # X * Y\n",
    "print(\"Division of arrays :\", np.divide(Y,X))              # X / Y\n",
    "print(\"Floor Division of arrays :\", np.floor_divide(Y,X))  \n",
    "print(\"Remainder array of X and Y :\", np.remainder(X,Y))   # X is dividned and Y is divisor here\n",
    "print(\"X Modulo Y :\", np.mod(X,Y))                         # X % Y                       \n",
    " "
   ]
  },
  {
   "cell_type": "code",
   "execution_count": 54,
   "metadata": {
    "scrolled": true
   },
   "outputs": [
    {
     "name": "stdout",
     "output_type": "stream",
     "text": [
      "Print neagtive array :  [-2 -4 -9 -3]\n",
      "Print reciprocal of array:  [0 0 0 0]\n",
      "Power of 2 on each element of array :  [ 4 16 81  9]\n",
      "Power of each element in array over 2 :  [  4  16 512   8]\n",
      "Square of array :  [ 4 16 81  9]\n",
      "Square root of array :  [1.41421356 2.         3.         1.73205081]\n"
     ]
    }
   ],
   "source": [
    "Array = np.array([2, 4, 9, 3])\n",
    "\n",
    "print(\"Print neagtive array : \", np.negative(Array))                    # Print Negative Array\n",
    "print(\"Power of 2 on each element of array : \", np.power(Array,2))      # Power x1^x2\n",
    "print(\"Power of each element in array over 2 : \", np.power(2,Array))    \n",
    "print(\"Square of array : \", np.square(Array))                           # Square of Array\n",
    "print(\"Square root of array : \", np.sqrt(Array))                        # Square root of Array"
   ]
  },
  {
   "cell_type": "code",
   "execution_count": 70,
   "metadata": {
    "scrolled": true
   },
   "outputs": [
    {
     "name": "stdout",
     "output_type": "stream",
     "text": [
      "Absolute of array :  [ 2.34    1.644  11.      0.      4.7856]\n",
      "Round to given decimal:  [ 2.34 -1.64 11.    0.    4.79]\n",
      "Round to near integer:  [ 2. -2. 11.  0.  5.]\n",
      "Sign : [ 1. -1.  1.  0.  1.]\n"
     ]
    }
   ],
   "source": [
    "Mat = np.array([2.34, -1.644, 11, 0, 4.7856])\n",
    "\n",
    "print(\"Absolute of array : \", np.absolute(Mat))                 # Absoulte value elements in Array\n",
    "print(\"Round to given decimal: \", np.around(Mat, decimals=2))   # Evenly round to the given number of decimals\n",
    "print(\"Round to near integer: \", np.rint(Mat))                  # Round values to nearest integer\n",
    "print(\"Sign :\", np.sign(Mat))                                   # for x < 0 return -1\n",
    "                                                                #     x = 0 return 0\n",
    "                                                                #     x > 0 return 1"
   ]
  },
  {
   "cell_type": "markdown",
   "metadata": {},
   "source": [
    "## Exponents and Logarithms"
   ]
  },
  {
   "cell_type": "code",
   "execution_count": 66,
   "metadata": {},
   "outputs": [
    {
     "name": "stdout",
     "output_type": "stream",
     "text": [
      "e power Array :  [2.71828183e+00 2.20264658e+04 2.68811714e+43]\n",
      "Logarithm to base e:  [0.         2.30258509 4.60517019]\n",
      "Logarithm to base 2:  [0.         2.30258509 4.60517019]\n",
      "Logarithm to base 10:  [0. 1. 2.]\n",
      "Print reciprocal of array:  [1 0 0]\n"
     ]
    }
   ],
   "source": [
    "A = np.array([1, 10, 100])\n",
    "\n",
    "print(\"e power Array : \", np.exp(A))                     # e^x (x is elements of array)\n",
    "print(\"Logarithm to base e: \", np.log(A))                # log to base e \n",
    "print(\"Logarithm to base 2: \", np.log(A))                # log to base 2\n",
    "print(\"Logarithm to base 10: \", np.log10(A))             # log to base 10\n",
    "print(\"Print reciprocal of array: \", np.reciprocal(A))   # Reciprocal"
   ]
  }
 ],
 "metadata": {
  "kernelspec": {
   "display_name": "Python 3",
   "language": "python",
   "name": "python3"
  },
  "language_info": {
   "codemirror_mode": {
    "name": "ipython",
    "version": 3
   },
   "file_extension": ".py",
   "mimetype": "text/x-python",
   "name": "python",
   "nbconvert_exporter": "python",
   "pygments_lexer": "ipython3",
   "version": "3.7.1"
  }
 },
 "nbformat": 4,
 "nbformat_minor": 2
}
