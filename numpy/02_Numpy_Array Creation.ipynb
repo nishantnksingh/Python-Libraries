{
 "cells": [
  {
   "cell_type": "markdown",
   "metadata": {},
   "source": [
    "# Numpy : Array Creation"
   ]
  },
  {
   "cell_type": "code",
   "execution_count": 2,
   "metadata": {
    "scrolled": true
   },
   "outputs": [
    {
     "name": "stdout",
     "output_type": "stream",
     "text": [
      "[[2 4 6 8]\n",
      " [1 2 3 4]]\n",
      "[[2 4 6 8]\n",
      " [1 2 3 4]]\n"
     ]
    }
   ],
   "source": [
    "import numpy as np\n",
    "M = np.array([[2, 4, 6, 8],\n",
    "             [1, 2, 3, 4]])\n",
    "print(M)                         # Array \n",
    "\n",
    "# Create Matrix from data\n",
    "print(np.mat(M))                 # Matrix"
   ]
  },
  {
   "cell_type": "markdown",
   "metadata": {},
   "source": [
    "### 1. Random filled data"
   ]
  },
  {
   "cell_type": "code",
   "execution_count": 3,
   "metadata": {
    "scrolled": false
   },
   "outputs": [
    {
     "name": "stdout",
     "output_type": "stream",
     "text": [
      "[[0.00000000e+000 0.00000000e+000 0.00000000e+000]\n",
      " [0.00000000e+000 0.00000000e+000 5.25685847e-321]\n",
      " [4.46811701e-091 2.44041271e-154 7.13637444e+159]]\n"
     ]
    }
   ],
   "source": [
    "# random filled data\n",
    "print(np.empty((3,3)))                  "
   ]
  },
  {
   "cell_type": "code",
   "execution_count": 4,
   "metadata": {},
   "outputs": [
    {
     "name": "stdout",
     "output_type": "stream",
     "text": [
      "[[  -1268592        354 1659706832]\n",
      " [     32761 1659708768      32761]\n",
      " [1659812928      32761 1659704480]]\n"
     ]
    }
   ],
   "source": [
    "# random with dtype argument\n",
    "# explicitly coverting to int\n",
    "\n",
    "print(np.empty((3,3), dtype=int))      "
   ]
  },
  {
   "cell_type": "markdown",
   "metadata": {},
   "source": [
    "### 2. Zero Matrix"
   ]
  },
  {
   "cell_type": "code",
   "execution_count": 7,
   "metadata": {
    "scrolled": false
   },
   "outputs": [
    {
     "name": "stdout",
     "output_type": "stream",
     "text": [
      "[[0 0 0]\n",
      " [0 0 0]\n",
      " [0 0 0]\n",
      " [0 0 0]]\n"
     ]
    }
   ],
   "source": [
    "# Create zero matrix of zeros\n",
    "\n",
    "print(np.zeros((4,3)))                 "
   ]
  },
  {
   "cell_type": "markdown",
   "metadata": {},
   "source": [
    "### 3. Matrix of Value one"
   ]
  },
  {
   "cell_type": "code",
   "execution_count": 8,
   "metadata": {},
   "outputs": [
    {
     "name": "stdout",
     "output_type": "stream",
     "text": [
      "[[1. 1. 1. 1.]\n",
      " [1. 1. 1. 1.]\n",
      " [1. 1. 1. 1.]]\n"
     ]
    }
   ],
   "source": [
    "# Create martrix of ones \n",
    "\n",
    "print(np.ones((3,4)))"
   ]
  },
  {
   "cell_type": "markdown",
   "metadata": {},
   "source": [
    "### 4. Matrix with ones on the diagonal and zeros elsewhere "
   ]
  },
  {
   "cell_type": "code",
   "execution_count": 9,
   "metadata": {},
   "outputs": [
    {
     "data": {
      "text/plain": [
       "array([[1, 0, 0, 0],\n",
       "       [0, 1, 0, 0],\n",
       "       [0, 0, 1, 0],\n",
       "       [0, 0, 0, 1]])"
      ]
     },
     "execution_count": 9,
     "metadata": {},
     "output_type": "execute_result"
    }
   ],
   "source": [
    "np.eye(4,dtype = int)                     # Try passing argument K"
   ]
  },
  {
   "cell_type": "markdown",
   "metadata": {},
   "source": [
    "### 5. Identity matrix"
   ]
  },
  {
   "cell_type": "code",
   "execution_count": 10,
   "metadata": {
    "scrolled": true
   },
   "outputs": [
    {
     "data": {
      "text/plain": [
       "array([[1., 0., 0.],\n",
       "       [0., 1., 0.],\n",
       "       [0., 0., 1.]])"
      ]
     },
     "execution_count": 10,
     "metadata": {},
     "output_type": "execute_result"
    }
   ],
   "source": [
    "# The square identity matrix of given size\n",
    "\n",
    "np.identity(3)"
   ]
  },
  {
   "cell_type": "markdown",
   "metadata": {},
   "source": [
    "### 6. Diagonal matrix"
   ]
  },
  {
   "cell_type": "code",
   "execution_count": 11,
   "metadata": {
    "scrolled": true
   },
   "outputs": [
    {
     "name": "stdout",
     "output_type": "stream",
     "text": [
      "[[0 1 0 0 0]\n",
      " [0 0 2 0 0]\n",
      " [0 0 0 3 0]\n",
      " [0 0 0 0 4]\n",
      " [0 0 0 0 0]]\n",
      "[2 2]\n"
     ]
    }
   ],
   "source": [
    "# kth Diagonal Matrix\n",
    "\n",
    "d1 = np.array([1,2,3,4])   # 1-D array          \n",
    " \n",
    "d2 = np.array([[1,2,3],    # 2-D array\n",
    "               [2,2,2]])\n",
    "\n",
    "print(np.diag(d1, k=1))      # kth diagonal if input is a 1-D array\n",
    "\n",
    "print(np.diag(d2, k=1))      # kth diagonal if input is a 1-D array"
   ]
  },
  {
   "cell_type": "markdown",
   "metadata": {},
   "source": [
    "### 7. Array of given shape and type, filled with fill_value."
   ]
  },
  {
   "cell_type": "code",
   "execution_count": 12,
   "metadata": {},
   "outputs": [
    {
     "name": "stdout",
     "output_type": "stream",
     "text": [
      "[[inf inf]\n",
      " [inf inf]]\n",
      "[[24 24 24 24]\n",
      " [24 24 24 24]\n",
      " [24 24 24 24]]\n",
      "[['s' 's' 's' 's']\n",
      " ['s' 's' 's' 's']\n",
      " ['s' 's' 's' 's']]\n"
     ]
    }
   ],
   "source": [
    "f1 = np.full((2, 2), np.inf)             \n",
    "print(f1)\n",
    "\n",
    "f2 = np.full((3, 4), 24)             \n",
    "print(f2)\n",
    "\n",
    "f3 = np.full((3, 4), 's')             \n",
    "print(f3)"
   ]
  },
  {
   "cell_type": "markdown",
   "metadata": {},
   "source": [
    "##### NOTE: Try empty_like, ones_like_, zeros_like, full_like"
   ]
  },
  {
   "cell_type": "markdown",
   "metadata": {},
   "source": [
    "## B. Creation with Numerical Ranges"
   ]
  },
  {
   "cell_type": "markdown",
   "metadata": {},
   "source": [
    "### 1. Evenly spaced values within a given interval"
   ]
  },
  {
   "cell_type": "code",
   "execution_count": 13,
   "metadata": {},
   "outputs": [
    {
     "name": "stdout",
     "output_type": "stream",
     "text": [
      "[0 1 2 3 4 5 6 7 8 9]\n",
      "[11 12 13 14 15 16 17 18 19 20 21 22 23 24 25 26 27 28 29]\n",
      "[11 14 17 20 23 26 29]\n"
     ]
    }
   ],
   "source": [
    "print(np.arange(10))                   # Creates array elements in range of 0 to 10     \n",
    "\n",
    "print(np.arange(11, 30))               # Creates array elements in range of 11 to 30   \n",
    "\n",
    "print(np.arange(11, 30, 3))            # Creates array elements in range of 11 to 30 with interval of 3   "
   ]
  },
  {
   "cell_type": "markdown",
   "metadata": {},
   "source": [
    "### 2. Array with evenly spaced numbers over a specified interval"
   ]
  },
  {
   "cell_type": "code",
   "execution_count": 19,
   "metadata": {
    "scrolled": true
   },
   "outputs": [
    {
     "name": "stdout",
     "output_type": "stream",
     "text": [
      "[0.   0.25 0.5  0.75 1.  ]\n",
      "(array([2.  , 2.25, 2.5 , 2.75, 3.  ]), 0.25)\n"
     ]
    }
   ],
   "source": [
    "print(np.linspace(0, 1, 5))                  # Elements between 0 and 1 divided into 5 intervals(step)\n",
    "\n",
    "print(np.linspace(2, 3, 5, retstep=True))    # Will also print the step value"
   ]
  },
  {
   "cell_type": "markdown",
   "metadata": {},
   "source": [
    "### 3. Array with numbers spaced evenly on a log scale"
   ]
  },
  {
   "cell_type": "code",
   "execution_count": 17,
   "metadata": {
    "scrolled": true
   },
   "outputs": [
    {
     "name": "stdout",
     "output_type": "stream",
     "text": [
      "[ 1.          1.77827941  3.16227766  5.62341325 10.        ]\n",
      "[4.         4.75682846 5.65685425 6.72717132 8.        ]\n"
     ]
    }
   ],
   "source": [
    "print(np.logspace(0, 1, 5))                  # Elements between 0 and 1 divided into 5 log intervals\n",
    "\n",
    "print(np.logspace(2, 3, 5, base=2))          # With specific base value"
   ]
  },
  {
   "cell_type": "markdown",
   "metadata": {},
   "source": [
    "### 4. Array with numbers spaced evenly on a log scale ( A Geometric Progression)"
   ]
  },
  {
   "cell_type": "code",
   "execution_count": 21,
   "metadata": {},
   "outputs": [
    {
     "name": "stdout",
     "output_type": "stream",
     "text": [
      "[   1.   10.  100. 1000.]\n",
      "[  1.   2.   4.   8.  16.  32.  64. 128. 256.]\n"
     ]
    }
   ],
   "source": [
    "print(np.geomspace(1, 1000, 4))                  # Elements between 0 and 1000 divided into 5 step\n",
    "\n",
    "print(np.geomspace(1, 256, 9))                   "
   ]
  },
  {
   "cell_type": "markdown",
   "metadata": {},
   "source": [
    "### 5. Meshgrid"
   ]
  },
  {
   "cell_type": "code",
   "execution_count": 20,
   "metadata": {
    "scrolled": true
   },
   "outputs": [
    {
     "name": "stdout",
     "output_type": "stream",
     "text": [
      "[[0 1 2 3 4]\n",
      " [0 1 2 3 4]\n",
      " [0 1 2 3 4]\n",
      " [0 1 2 3 4]\n",
      " [0 1 2 3 4]]\n",
      "[[0 0 0 0 0]\n",
      " [1 1 1 1 1]\n",
      " [2 2 2 2 2]\n",
      " [3 3 3 3 3]\n",
      " [4 4 4 4 4]]\n"
     ]
    }
   ],
   "source": [
    "x = np.array([0, 1, 2, 3, 4])        # Creates two arrays such that pairing of corresponding element-\n",
    "y = np.array([0, 1, 2, 3, 4])        # -in each metrix gives the x and y coordinate of a point in the grid.\n",
    "\n",
    "xx, yy = np.meshgrid(x, y)\n",
    "print(xx)\n",
    "print(yy)"
   ]
  },
  {
   "cell_type": "markdown",
   "metadata": {},
   "source": [
    "### 6. Create multi dimensional grid"
   ]
  },
  {
   "cell_type": "code",
   "execution_count": 22,
   "metadata": {},
   "outputs": [
    {
     "name": "stdout",
     "output_type": "stream",
     "text": [
      "[[[0 0 0 0 0]\n",
      "  [1 1 1 1 1]\n",
      "  [2 2 2 2 2]\n",
      "  [3 3 3 3 3]\n",
      "  [4 4 4 4 4]]\n",
      "\n",
      " [[0 1 2 3 4]\n",
      "  [0 1 2 3 4]\n",
      "  [0 1 2 3 4]\n",
      "  [0 1 2 3 4]\n",
      "  [0 1 2 3 4]]]\n"
     ]
    }
   ],
   "source": [
    "print(np.mgrid[0:5,0:5])"
   ]
  },
  {
   "cell_type": "code",
   "execution_count": null,
   "metadata": {},
   "outputs": [],
   "source": []
  }
 ],
 "metadata": {
  "kernelspec": {
   "display_name": "Python 3",
   "language": "python",
   "name": "python3"
  },
  "language_info": {
   "codemirror_mode": {
    "name": "ipython",
    "version": 3
   },
   "file_extension": ".py",
   "mimetype": "text/x-python",
   "name": "python",
   "nbconvert_exporter": "python",
   "pygments_lexer": "ipython3",
   "version": "3.7.1"
  }
 },
 "nbformat": 4,
 "nbformat_minor": 2
}
