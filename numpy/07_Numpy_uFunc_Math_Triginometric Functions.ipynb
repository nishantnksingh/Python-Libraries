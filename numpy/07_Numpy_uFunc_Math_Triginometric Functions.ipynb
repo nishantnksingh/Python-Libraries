{
 "cells": [
  {
   "cell_type": "markdown",
   "metadata": {},
   "source": [
    "## Numpy : uFunc : Math : Trigonometric Functions\n",
    "\n",
    "All Trigonometric functions are radians when an angle is called for."
   ]
  },
  {
   "cell_type": "code",
   "execution_count": 29,
   "metadata": {
    "scrolled": true
   },
   "outputs": [
    {
     "name": "stdout",
     "output_type": "stream",
     "text": [
      "[ 0 30 45 60 90]\n",
      "Sine Values :  [0.         0.5        0.70710678 0.8660254  1.        ]\n",
      "Cosine Values :  [1.00000000e+00 8.66025404e-01 7.07106781e-01 5.00000000e-01\n",
      " 6.12323400e-17]\n",
      "Tangent Values :  [0.00000000e+00 5.77350269e-01 1.00000000e+00 1.73205081e+00\n",
      " 1.63312394e+16]\n",
      "Inverse Sine :  [0.         1.57079633 0.52359878]\n",
      "Inverse Cosine :  [1.57079633 0.         1.04719755]\n",
      "Inverse Tan  :  [0.         0.78539816 0.46364761]\n"
     ]
    }
   ],
   "source": [
    "import numpy as np\n",
    "\n",
    "x = np.array([0, 30, 45, 60, 90])        \n",
    "print(x)\n",
    "\n",
    "\n",
    "# Standard Trigonomteric Functions\n",
    "sine = np.sin(np.radians(x))                # Angles to radians\n",
    "cos = np.cos(np.radians(x))                 # use degrees(x) for radians to angles\n",
    "tan = np.tan(np.radians(x))\n",
    "\n",
    "print(\"Sine Values : \", sine)\n",
    "print(\"Cosine Values : \", cos)\n",
    "print(\"Tangent Values : \", tan)\n",
    "\n",
    "\n",
    "# Inverse Trigonomteric Functions\n",
    "\n",
    "y = np.array([0, 1, 0.5])  \n",
    "\n",
    "Isine = np.arcsin(y)\n",
    "Icos = np.arccos(y)\n",
    "Itan = np.arctan(y)\n",
    "\n",
    "print(\"Inverse Sine : \", Isine)\n",
    "print(\"Inverse Cosine : \", Icos)\n",
    "print(\"Inverse Tan  : \", Itan)\n"
   ]
  },
  {
   "cell_type": "code",
   "execution_count": 27,
   "metadata": {},
   "outputs": [
    {
     "name": "stdout",
     "output_type": "stream",
     "text": [
      "0.982793723247329\n",
      "3.605551275463989\n"
     ]
    }
   ],
   "source": [
    "# To find Slope ie. inverse tan of (x1/x2)\n",
    "t = np.arctan2(3,2)       # values are in radian\n",
    "print(t)\n",
    "\n",
    "# To find hypot\n",
    "h = np.hypot(3,2)\n",
    "print(h)\n",
    "\n",
    "# arctan2 and hypot can be used to compute phase and magnitude in a cartesian system quickly"
   ]
  },
  {
   "cell_type": "markdown",
   "metadata": {},
   "source": [
    "Few other trigonometric universal functions are \n",
    "\n",
    "Hyperbolic Functions\n",
    "1. sinh(x[,y])\n",
    "2. cosh(x,[,y])\n",
    "3. tanh(x,[,y])\n",
    "4. arcsinh(x,[,y])\n",
    "5. arccosh(x,[,y])\n",
    "6. arctanh((x,[,y])"
   ]
  }
 ],
 "metadata": {
  "kernelspec": {
   "display_name": "Python 3",
   "language": "python",
   "name": "python3"
  },
  "language_info": {
   "codemirror_mode": {
    "name": "ipython",
    "version": 3
   },
   "file_extension": ".py",
   "mimetype": "text/x-python",
   "name": "python",
   "nbconvert_exporter": "python",
   "pygments_lexer": "ipython3",
   "version": "3.7.1"
  }
 },
 "nbformat": 4,
 "nbformat_minor": 2
}
