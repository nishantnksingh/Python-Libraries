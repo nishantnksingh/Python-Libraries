{
 "cells": [
  {
   "cell_type": "markdown",
   "metadata": {},
   "source": [
    "# Numpy_Random Sampling"
   ]
  },
  {
   "cell_type": "markdown",
   "metadata": {},
   "source": [
    "### 1. Uniformly distributed Random Values in a given shape"
   ]
  },
  {
   "cell_type": "code",
   "execution_count": 2,
   "metadata": {},
   "outputs": [
    {
     "name": "stdout",
     "output_type": "stream",
     "text": [
      "[[0.18216127 0.95997472]\n",
      " [0.57754515 0.73768061]\n",
      " [0.05498957 0.47598702]]\n"
     ]
    }
   ],
   "source": [
    "import numpy as np\n",
    "\n",
    "print(np.random.rand(3, 2))                  # uniformly distributed value between 0 and 1"
   ]
  },
  {
   "cell_type": "markdown",
   "metadata": {},
   "source": [
    "### 2. Standard Normal distributed Random Values in a given shape"
   ]
  },
  {
   "cell_type": "code",
   "execution_count": 5,
   "metadata": {},
   "outputs": [
    {
     "name": "stdout",
     "output_type": "stream",
     "text": [
      "[[-0.85354448  0.55841859 -0.22272018  1.68438542]\n",
      " [ 1.02173102  0.05475095 -0.12317566 -0.44707049]\n",
      " [ 0.58530055 -1.29977861 -1.55458104 -1.68978761]]\n"
     ]
    }
   ],
   "source": [
    "print(np.random.randn(3, 4))                  # Standard Normal distributed"
   ]
  },
  {
   "cell_type": "markdown",
   "metadata": {},
   "source": [
    "### 3. Random integers arrays"
   ]
  },
  {
   "cell_type": "code",
   "execution_count": 18,
   "metadata": {},
   "outputs": [
    {
     "name": "stdout",
     "output_type": "stream",
     "text": [
      "3\n",
      "[[10 16 18 15]\n",
      " [ 6  9 17 17]]\n",
      "[[11 19 18 19]\n",
      " [11 11  6 12]]\n"
     ]
    }
   ],
   "source": [
    "print(np.random.randint(10))                 # Random no till 10\n",
    "\n",
    "print(np.random.randint(20, size=(2,4)))     \n",
    "\n",
    "print(np.random.randint(5,20, (2,4))) "
   ]
  },
  {
   "cell_type": "markdown",
   "metadata": {},
   "source": [
    "### 4.Create an array uniformly distributed in the given range 0 and 1 "
   ]
  },
  {
   "cell_type": "code",
   "execution_count": 20,
   "metadata": {
    "scrolled": true
   },
   "outputs": [
    {
     "name": "stdout",
     "output_type": "stream",
     "text": [
      "[[0.04372214 0.62388414 0.65112975 0.98546373]\n",
      " [0.19006687 0.51078895 0.51436971 0.21255614]]\n"
     ]
    }
   ],
   "source": [
    "print(np.random.random((2,4))) "
   ]
  }
 ],
 "metadata": {
  "kernelspec": {
   "display_name": "Python 3",
   "language": "python",
   "name": "python3"
  },
  "language_info": {
   "codemirror_mode": {
    "name": "ipython",
    "version": 3
   },
   "file_extension": ".py",
   "mimetype": "text/x-python",
   "name": "python",
   "nbconvert_exporter": "python",
   "pygments_lexer": "ipython3",
   "version": "3.7.1"
  }
 },
 "nbformat": 4,
 "nbformat_minor": 2
}
