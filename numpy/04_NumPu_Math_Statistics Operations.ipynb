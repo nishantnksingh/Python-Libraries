{
 "cells": [
  {
   "cell_type": "markdown",
   "metadata": {},
   "source": [
    "# Numpy_Math_Statstics Functions"
   ]
  },
  {
   "cell_type": "markdown",
   "metadata": {},
   "source": [
    "## 1. Order Statistics"
   ]
  },
  {
   "cell_type": "markdown",
   "metadata": {},
   "source": [
    "### A. Minimum of an array or minimum along an axis"
   ]
  },
  {
   "cell_type": "code",
   "execution_count": 2,
   "metadata": {},
   "outputs": [
    {
     "name": "stdout",
     "output_type": "stream",
     "text": [
      "1\n",
      "[3 4 2 1]\n",
      "[2 1 3 2]\n"
     ]
    }
   ],
   "source": [
    "import numpy as np\n",
    "grid = np.array ([[11, 8, 2, 14],\n",
    "                  [15, 7, 5, 1],\n",
    "                  [3, 6, 5, 7 ],\n",
    "                  [18, 4, 2, 6]])\n",
    "\n",
    "print(np.amin(grid))               # Minimum of the flattened array\n",
    "print(np.amin(grid, axis = 0))     # Minimum of the axis = 0 \n",
    "print(np.amin(grid, axis = 1))     # Minimum of the axis = 1 "
   ]
  },
  {
   "cell_type": "markdown",
   "metadata": {},
   "source": [
    "### B. Maximum of an array or minimum along an axis"
   ]
  },
  {
   "cell_type": "code",
   "execution_count": 6,
   "metadata": {
    "scrolled": true
   },
   "outputs": [
    {
     "name": "stdout",
     "output_type": "stream",
     "text": [
      "18\n",
      "[18  8  5 14]\n",
      "[14 15  7 18]\n"
     ]
    }
   ],
   "source": [
    "print(np.amax(grid))               # Minimum of the flattened array\n",
    "print(np.amax(grid, axis = 0))     # Minimum of the axis = 0 \n",
    "print(np.amax(grid, axis = 1))     # Minimum of the axis = 1 "
   ]
  },
  {
   "cell_type": "markdown",
   "metadata": {},
   "source": [
    "### C. Minimum of an array or minimum along an axis, ignoring any NaNs"
   ]
  },
  {
   "cell_type": "code",
   "execution_count": 8,
   "metadata": {},
   "outputs": [
    {
     "name": "stdout",
     "output_type": "stream",
     "text": [
      "2.0\n",
      "[3. 4. 2. 6.]\n",
      "[2. 5. 3. 2.]\n"
     ]
    }
   ],
   "source": [
    "mat = np.array ([[11, 8, 2, 14],\n",
    "                 [15, 7, np.nan, 1 ],\n",
    "                 [3, 6, 5, 7 ],\n",
    "                 [18, 4, 2, 6]])\n",
    "\n",
    "print(np.nanmin(grid))               # Minimum of the flattened array\n",
    "print(np.nanmin(grid, axis = 0))     # Minimum of the axis = 0 \n",
    "print(np.nanmin(grid, axis = 1))     # Minimum of the axis = 1 "
   ]
  },
  {
   "cell_type": "markdown",
   "metadata": {},
   "source": [
    "### D. Maximum of an array or minimum along an axis, ignoring any NaNs"
   ]
  },
  {
   "cell_type": "code",
   "execution_count": 10,
   "metadata": {
    "scrolled": true
   },
   "outputs": [
    {
     "name": "stdout",
     "output_type": "stream",
     "text": [
      "18\n",
      "[18  8  5 14]\n",
      "[14 15  7 18]\n"
     ]
    }
   ],
   "source": [
    "print(np.nanmax(grid))               # Minimum of the flattened array\n",
    "print(np.nanmax(grid, axis = 0))     # Minimum of the axis = 0 \n",
    "print(np.nanmax(grid, axis = 1))     # Minimum of the axis = 1 "
   ]
  },
  {
   "cell_type": "markdown",
   "metadata": {},
   "source": [
    "### E. Percentile (Equivalent to Median)"
   ]
  },
  {
   "cell_type": "code",
   "execution_count": 19,
   "metadata": {},
   "outputs": [
    {
     "name": "stdout",
     "output_type": "stream",
     "text": [
      "[[10  7  4]\n",
      " [ 3  2  1]]\n",
      "3.5\n",
      "[6.5 4.5 2.5]\n",
      "[7. 2.]\n"
     ]
    }
   ],
   "source": [
    "P = np.array([[10, 7, 4], [3, 2, 1]])\n",
    "print(P)\n",
    "\n",
    "print(np.percentile(P, 50))                 # Percentile for flattened Array\n",
    "print(np.percentile(P, 50, axis=0))         # Percentile for axis = 0\n",
    "print(np.percentile(P, 50, axis=1))         # Percentile for axis = 1"
   ]
  },
  {
   "cell_type": "markdown",
   "metadata": {},
   "source": [
    "### F. Percentile ignoring NaN Values (Equivalent to Median)"
   ]
  },
  {
   "cell_type": "code",
   "execution_count": 18,
   "metadata": {},
   "outputs": [
    {
     "name": "stdout",
     "output_type": "stream",
     "text": [
      "[[nan  7.  4.]\n",
      " [ 3. nan  1.]]\n",
      "3.5\n",
      "[3.  7.  2.5]\n",
      "[5.5 2. ]\n"
     ]
    }
   ],
   "source": [
    "P n= np.array([[np.nan, 7, 4], [3, np.nan, 1]])\n",
    "print(P)\n",
    "\n",
    "print(np.nanpercentile(Pn, 50))                 # Percentile for flattened Array\n",
    "print(np.nanpercentile(Pn, 50, axis=0))         # Percentile for axis = 0\n",
    "print(np.nanpercentile(Pn, 50, axis=1))         # Percentile for axis = 1"
   ]
  },
  {
   "cell_type": "markdown",
   "metadata": {},
   "source": [
    "### G. Quantile"
   ]
  },
  {
   "cell_type": "code",
   "execution_count": 21,
   "metadata": {},
   "outputs": [
    {
     "name": "stdout",
     "output_type": "stream",
     "text": [
      "[[10  7  4]\n",
      " [ 3  2  1]]\n",
      "3.5\n",
      "[6.5 4.5 2.5]\n",
      "[7. 2.]\n"
     ]
    }
   ],
   "source": [
    "Q = np.array([[10, 7, 4], [3, 2, 1]])\n",
    "print(Q)\n",
    "\n",
    "print(np.quantile(Q, 0.5))                 # Percentile for flattened Array\n",
    "print(np.quantile(Q, 0.5, axis=0))         # Percentile for axis = 0\n",
    "print(np.quantile(Q, 0.5, axis=1))         # Percentile for axis = 1"
   ]
  },
  {
   "cell_type": "markdown",
   "metadata": {},
   "source": [
    "### G. Quantile ignoring NaN"
   ]
  },
  {
   "cell_type": "code",
   "execution_count": 23,
   "metadata": {},
   "outputs": [
    {
     "name": "stdout",
     "output_type": "stream",
     "text": [
      "[[nan  7.  4.]\n",
      " [ 3. nan  1.]]\n",
      "3.5\n",
      "[3.  7.  2.5]\n",
      "[5.5 2. ]\n"
     ]
    }
   ],
   "source": [
    "Qn = np.array([[np.nan, 7, 4], [3, np.nan, 1]])\n",
    "print(Qn)\n",
    "\n",
    "print(np.nanquantile(Qn, 0.5))                 # Percentile for flattened Array\n",
    "print(np.nanquantile(Qn, 0.5, axis=0))         # Percentile for axis = 0\n",
    "print(np.nanquantile(Qn, 0.5, axis=1))         # Percentile for axis = 1"
   ]
  },
  {
   "cell_type": "markdown",
   "metadata": {},
   "source": [
    "NOTE : 1. Percentile is equivalent to median with q in the range[0, 50].\n",
    "       2. Quantile is equivalent to median with q in the range[0, 0.5].\n",
    "       3. Percentile is quivalent to Quantile with q in the range[0, 100]."
   ]
  },
  {
   "cell_type": "markdown",
   "metadata": {},
   "source": [
    "## 2. Averages and Variances"
   ]
  },
  {
   "cell_type": "code",
   "execution_count": 31,
   "metadata": {},
   "outputs": [],
   "source": [
    "test =  np.array ([[11, 8, 2, 14],\n",
    "                  [15, 7, 5, 1],\n",
    "                  [3, 6, 5, 7 ],\n",
    "                  [18, 4, 2, 6]])"
   ]
  },
  {
   "cell_type": "markdown",
   "metadata": {},
   "source": [
    "### A. Median"
   ]
  },
  {
   "cell_type": "code",
   "execution_count": 34,
   "metadata": {
    "scrolled": true
   },
   "outputs": [
    {
     "name": "stdout",
     "output_type": "stream",
     "text": [
      "6.0\n",
      "[13.   6.5  3.5  6.5]\n",
      "[9.5 6.  5.5 5. ]\n"
     ]
    }
   ],
   "source": [
    "print(np.median(test))                # Median of the Flattened Array\n",
    "print(np.median(test, axis = 0))      # Median along axis 0\n",
    "print(np.median(test, axis = 1))      # Median along axis 1\n",
    "\n",
    "# Try nanmedian"
   ]
  },
  {
   "cell_type": "markdown",
   "metadata": {},
   "source": [
    "### B. Average"
   ]
  },
  {
   "cell_type": "code",
   "execution_count": 35,
   "metadata": {},
   "outputs": [
    {
     "name": "stdout",
     "output_type": "stream",
     "text": [
      "7.125\n",
      "[11.75  6.25  3.5   7.  ]\n",
      "[8.75 7.   5.25 7.5 ]\n"
     ]
    }
   ],
   "source": [
    "print(np.average(test))                # Average of the Flattened Array\n",
    "print(np.average(test, axis = 0))      # Average along axis 0\n",
    "print(np.average(test, axis = 1))      # Average along axis 1"
   ]
  },
  {
   "cell_type": "code",
   "execution_count": 39,
   "metadata": {},
   "outputs": [
    {
     "name": "stdout",
     "output_type": "stream",
     "text": [
      "[0.75 2.75 4.75]\n"
     ]
    }
   ],
   "source": [
    "test2 = np.array([[0, 1],\n",
    "                  [2, 3],\n",
    "                  [4, 5]])\n",
    "\n",
    "print(np.average(test2, axis=1, weights=[1./4, 3./4]))    # With weight along axis"
   ]
  },
  {
   "cell_type": "markdown",
   "metadata": {},
   "source": [
    "### B. Mean"
   ]
  },
  {
   "cell_type": "code",
   "execution_count": 42,
   "metadata": {
    "scrolled": false
   },
   "outputs": [
    {
     "name": "stdout",
     "output_type": "stream",
     "text": [
      "[[1 2]\n",
      " [3 4]]\n",
      "2.5\n",
      "[2. 3.]\n",
      "[1.5 3.5]\n"
     ]
    }
   ],
   "source": [
    "test3 = np.array([[1, 2], [3, 4]])\n",
    "\n",
    "print(test3)\n",
    "\n",
    "print(np.mean(test3))                  # Mean of the Flattened Array\n",
    "print(np.mean(test3, axis=0))          # Mean along axis 0\n",
    "print(np.mean(test3, axis=1))          # Mean along axis 1\n",
    "\n",
    "# Try nanmean"
   ]
  },
  {
   "cell_type": "markdown",
   "metadata": {},
   "source": [
    "### C. Standard Deviation"
   ]
  },
  {
   "cell_type": "code",
   "execution_count": 45,
   "metadata": {
    "scrolled": true
   },
   "outputs": [
    {
     "name": "stdout",
     "output_type": "stream",
     "text": [
      "4.8202048711647105\n",
      "[5.62916512 1.47901995 1.5        4.63680925]\n",
      "[4.43705984 5.09901951 1.47901995 6.2249498 ]\n"
     ]
    }
   ],
   "source": [
    "test3 =  np.array ([[11, 8, 2, 14],\n",
    "                    [15, 7, 5, 1],\n",
    "                    [3, 6, 5, 7 ],\n",
    "                    [18, 4, 2, 6]])\n",
    "\n",
    "print(np.std(test3))                   # Standard deviation of flattned Array\n",
    "print(np.std(test3, axis=0))           # Standard deviation along axis 0\n",
    "print(np.std(test3, axis=1))           # Standard deviation along axis 1\n",
    "\n",
    "# Try nanstd"
   ]
  },
  {
   "cell_type": "markdown",
   "metadata": {},
   "source": [
    "### D. Variance "
   ]
  },
  {
   "cell_type": "code",
   "execution_count": 4,
   "metadata": {},
   "outputs": [
    {
     "name": "stdout",
     "output_type": "stream",
     "text": [
      "1.25\n",
      "[1. 1.]\n",
      "[0.25 0.25]\n"
     ]
    }
   ],
   "source": [
    "test4 = np.array([[1, 2], [3, 4]])\n",
    "\n",
    "print(np.var(test4))                   # Variance of flattned Array\n",
    "print(np.var(test4, axis=0))           # Variance along axis 0\n",
    "print(np.var(test4, axis=1))           # Varience along axis 1\n",
    "\n",
    "# Try nanvar"
   ]
  }
 ],
 "metadata": {
  "kernelspec": {
   "display_name": "Python 3",
   "language": "python",
   "name": "python3"
  },
  "language_info": {
   "codemirror_mode": {
    "name": "ipython",
    "version": 3
   },
   "file_extension": ".py",
   "mimetype": "text/x-python",
   "name": "python",
   "nbconvert_exporter": "python",
   "pygments_lexer": "ipython3",
   "version": "3.7.1"
  }
 },
 "nbformat": 4,
 "nbformat_minor": 2
}
